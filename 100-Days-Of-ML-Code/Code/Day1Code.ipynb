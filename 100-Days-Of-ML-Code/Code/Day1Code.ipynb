{
 "cells": [
  {
   "cell_type": "markdown",
   "id": "85f285ac",
   "metadata": {},
   "source": [
    "1.导入库"
   ]
  },
  {
   "cell_type": "code",
   "execution_count": 10,
   "id": "7dafdd1d",
   "metadata": {},
   "outputs": [],
   "source": [
    "import pandas as pd\n",
    "import numpy as np"
   ]
  },
  {
   "cell_type": "markdown",
   "id": "bd68b0ce",
   "metadata": {},
   "source": [
    "2.导入数据包"
   ]
  },
  {
   "cell_type": "code",
   "execution_count": 11,
   "id": "961ab577",
   "metadata": {},
   "outputs": [
    {
     "name": "stdout",
     "output_type": "stream",
     "text": [
      "Dataset :\n",
      "   Country   Age   Salary Purchased\n",
      "0   France  44.0  72000.0        No\n",
      "1    Spain  27.0  48000.0       Yes\n",
      "2  Germany  30.0  54000.0        No\n",
      "3    Spain  38.0  61000.0        No\n",
      "4  Germany  40.0      NaN       Yes\n",
      "5   France  35.0  58000.0       Yes\n",
      "6    Spain   NaN  52000.0        No\n",
      "7   France  48.0  79000.0       Yes\n",
      "8  Germany  50.0  83000.0        No\n",
      "9   France  37.0  67000.0       Yes\n",
      "X :\n",
      "[['France' 44.0 72000.0]\n",
      " ['Spain' 27.0 48000.0]\n",
      " ['Germany' 30.0 54000.0]\n",
      " ['Spain' 38.0 61000.0]\n",
      " ['Germany' 40.0 nan]\n",
      " ['France' 35.0 58000.0]\n",
      " ['Spain' nan 52000.0]\n",
      " ['France' 48.0 79000.0]\n",
      " ['Germany' 50.0 83000.0]\n",
      " ['France' 37.0 67000.0]]\n",
      "y :\n",
      "['No' 'Yes' 'No' 'No' 'Yes' 'Yes' 'No' 'Yes' 'No' 'Yes']\n"
     ]
    }
   ],
   "source": [
    "dataset = pd.read_csv('../datasets/Data.csv')\n",
    "# 选择所有行，除了最后一列的所有列\n",
    "X = dataset.iloc[:, :-1].values\n",
    "# 选择所有行，最后一列\n",
    "y = dataset.iloc[:, -1].values\n",
    "print(\"Dataset :\\n\"+str(dataset))\n",
    "print(\"X :\\n\"+str(X))\n",
    "print(\"y :\\n\"+str(y))\n"
   ]
  },
  {
   "cell_type": "markdown",
   "id": "8ae92f9e",
   "metadata": {},
   "source": [
    "3. 处理缺失数据"
   ]
  },
  {
   "cell_type": "code",
   "execution_count": 12,
   "id": "b12cfd41",
   "metadata": {},
   "outputs": [
    {
     "name": "stdout",
     "output_type": "stream",
     "text": [
      "X :\n",
      "[['France' 44.0 72000.0]\n",
      " ['Spain' 27.0 48000.0]\n",
      " ['Germany' 30.0 54000.0]\n",
      " ['Spain' 38.0 61000.0]\n",
      " ['Germany' 40.0 63777.77777777778]\n",
      " ['France' 35.0 58000.0]\n",
      " ['Spain' 38.77777777777778 52000.0]\n",
      " ['France' 48.0 79000.0]\n",
      " ['Germany' 50.0 83000.0]\n",
      " ['France' 37.0 67000.0]]\n"
     ]
    }
   ],
   "source": [
    "#导入Imputer 类，用于处理数据中的缺失值。\n",
    "from sklearn.impute import SimpleImputer\n",
    "# 创建一个SimpleImputer对象，指定缺失值为np.nan，使用均值策略来填补缺失值\n",
    "imputer = SimpleImputer(missing_values = np.nan, strategy = \"mean\")\n",
    "# 适配Imputer对象到数据集的第2和第3列（索引1和2），计算这些列的均值。\n",
    "imputer = imputer.fit(X[ : , 1:3])\n",
    "# 用Imputer对象转换后的结果替换原始数据集中的缺失值。\n",
    "X[ : , 1:3] = imputer.transform(X[ : , 1:3])\n",
    "print(\"X :\\n\"+str(X))"
   ]
  },
  {
   "cell_type": "markdown",
   "id": "f93f67ce",
   "metadata": {},
   "source": [
    "4. 编码分类数据"
   ]
  },
  {
   "cell_type": "code",
   "execution_count": 13,
   "id": "9b455e1f",
   "metadata": {},
   "outputs": [
    {
     "name": "stdout",
     "output_type": "stream",
     "text": [
      "X :\n",
      "[[0 44.0 72000.0]\n",
      " [2 27.0 48000.0]\n",
      " [1 30.0 54000.0]\n",
      " [2 38.0 61000.0]\n",
      " [1 40.0 63777.77777777778]\n",
      " [0 35.0 58000.0]\n",
      " [2 38.77777777777778 52000.0]\n",
      " [0 48.0 79000.0]\n",
      " [1 50.0 83000.0]\n",
      " [0 37.0 67000.0]]\n"
     ]
    }
   ],
   "source": [
    "#导入分类数据编码的库，用于将分类变量转换为数值变量。\n",
    "from sklearn.preprocessing import LabelEncoder\n",
    "labelencoder_X = LabelEncoder()\n",
    "# 对数据集的第一列（索引为0）进行标签编码。按字母顺序排序。\n",
    "X[ : , 0] = labelencoder_X.fit_transform(X[ : , 0])\n",
    "print(\"X :\\n\"+str(X))"
   ]
  },
  {
   "cell_type": "code",
   "execution_count": 14,
   "id": "02bf5b12",
   "metadata": {},
   "outputs": [
    {
     "name": "stdout",
     "output_type": "stream",
     "text": [
      "X :\n",
      "[[1.0 0.0 0.0 44.0 72000.0]\n",
      " [0.0 0.0 1.0 27.0 48000.0]\n",
      " [0.0 1.0 0.0 30.0 54000.0]\n",
      " [0.0 0.0 1.0 38.0 61000.0]\n",
      " [0.0 1.0 0.0 40.0 63777.77777777778]\n",
      " [1.0 0.0 0.0 35.0 58000.0]\n",
      " [0.0 0.0 1.0 38.77777777777778 52000.0]\n",
      " [1.0 0.0 0.0 48.0 79000.0]\n",
      " [0.0 1.0 0.0 50.0 83000.0]\n",
      " [1.0 0.0 0.0 37.0 67000.0]]\n",
      "Y :\n",
      "[0 1 0 0 1 1 0 1 0 1]\n"
     ]
    }
   ],
   "source": [
    "#导入OneHotEncoder类，用于将分类变量转换为独热编码形式。\n",
    "from sklearn.preprocessing import OneHotEncoder\n",
    "# 导入ColumnTransformer类，用于将不同的转换应用于数据集的不同列。\n",
    "from sklearn.compose import ColumnTransformer\n",
    "ct = ColumnTransformer(transformers=[('encoder', OneHotEncoder(), [0])], remainder='passthrough')\n",
    "# 对数据集的第一列（索引为0）进行独热编码。\n",
    "X = np.array(ct.fit_transform(X))\n",
    "print(\"X :\\n\"+str(X))\n",
    "labelencoder_Y = LabelEncoder()\n",
    "Y = labelencoder_Y.fit_transform(y)\n",
    "print(\"Y :\\n\"+str(Y))"
   ]
  },
  {
   "cell_type": "markdown",
   "id": "2b5174dd",
   "metadata": {},
   "source": [
    "5. 拆分数据集为训练集和测试集"
   ]
  },
  {
   "cell_type": "code",
   "execution_count": 17,
   "id": "560dd0e5",
   "metadata": {},
   "outputs": [
    {
     "name": "stdout",
     "output_type": "stream",
     "text": [
      "X_train :\n",
      "[[0.0 1.0 0.0 40.0 63777.77777777778]\n",
      " [1.0 0.0 0.0 37.0 67000.0]\n",
      " [0.0 0.0 1.0 27.0 48000.0]\n",
      " [0.0 0.0 1.0 38.77777777777778 52000.0]\n",
      " [1.0 0.0 0.0 48.0 79000.0]\n",
      " [0.0 0.0 1.0 38.0 61000.0]\n",
      " [1.0 0.0 0.0 44.0 72000.0]\n",
      " [1.0 0.0 0.0 35.0 58000.0]]\n",
      "X_test :\n",
      "[[0.0 1.0 0.0 30.0 54000.0]\n",
      " [0.0 1.0 0.0 50.0 83000.0]]\n",
      "Y_train :\n",
      "[1 1 1 0 1 0 0 1]\n",
      "Y_test :\n",
      "[0 0]\n"
     ]
    }
   ],
   "source": [
    "# 导入train_test_split函数，用于将数据集划分为训练集和测试集。\n",
    "from sklearn.model_selection import train_test_split\n",
    "# 将数据集划分为训练集和测试集，测试集占20%，随机种子设为0以确保结果可复现。\n",
    "X_train, X_test, Y_train, Y_test = train_test_split( X , Y , test_size = 0.2, random_state = 0)\n",
    "print(\"X_train :\\n\"+str(X_train))\n",
    "print(\"X_test :\\n\"+str(X_test))\n",
    "print(\"Y_train :\\n\"+str(Y_train))\n",
    "print(\"Y_test :\\n\"+str(Y_test))"
   ]
  },
  {
   "cell_type": "markdown",
   "id": "806529ae",
   "metadata": {},
   "source": [
    "6. 特征缩放"
   ]
  },
  {
   "cell_type": "code",
   "execution_count": 18,
   "id": "79a460d3",
   "metadata": {},
   "outputs": [
    {
     "name": "stdout",
     "output_type": "stream",
     "text": [
      "X_train :\n",
      "[[-1.          2.64575131 -0.77459667  0.26306757  0.12381479]\n",
      " [ 1.         -0.37796447 -0.77459667 -0.25350148  0.46175632]\n",
      " [-1.         -0.37796447  1.29099445 -1.97539832 -1.53093341]\n",
      " [-1.         -0.37796447  1.29099445  0.05261351 -1.11141978]\n",
      " [ 1.         -0.37796447 -0.77459667  1.64058505  1.7202972 ]\n",
      " [-1.         -0.37796447  1.29099445 -0.0813118  -0.16751412]\n",
      " [ 1.         -0.37796447 -0.77459667  0.95182631  0.98614835]\n",
      " [ 1.         -0.37796447 -0.77459667 -0.59788085 -0.48214934]]\n",
      "X_test :\n",
      "[[ 0.  0.  0. -1. -1.]\n",
      " [ 0.  0.  0.  1.  1.]]\n"
     ]
    }
   ],
   "source": [
    "#导入StandardScaler类，用于对特征进行标准化处理。\n",
    "from sklearn.preprocessing import StandardScaler\n",
    "sc_X = StandardScaler()\n",
    "# 对训练集和测试集的特征进行标准化处理。\n",
    "X_train = sc_X.fit_transform(X_train)\n",
    "X_test = sc_X.fit_transform(X_test)\n",
    "\n",
    "print(\"X_train :\\n\"+str(X_train))\n",
    "print(\"X_test :\\n\"+str(X_test))\n"
   ]
  }
 ],
 "metadata": {
  "kernelspec": {
   "display_name": "py39",
   "language": "python",
   "name": "python3"
  },
  "language_info": {
   "codemirror_mode": {
    "name": "ipython",
    "version": 3
   },
   "file_extension": ".py",
   "mimetype": "text/x-python",
   "name": "python",
   "nbconvert_exporter": "python",
   "pygments_lexer": "ipython3",
   "version": "3.9.23"
  }
 },
 "nbformat": 4,
 "nbformat_minor": 5
}
